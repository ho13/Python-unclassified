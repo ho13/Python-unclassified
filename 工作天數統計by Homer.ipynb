{
 "cells": [
  {
   "cell_type": "code",
   "execution_count": 17,
   "metadata": {},
   "outputs": [
    {
     "name": "stdout",
     "output_type": "stream",
     "text": [
      "請輸入國定假日(YYYY-MM-DD 請用逗點分隔):2019-01-01,2019-02-04,2019-02-05,2019-02-06,2019-02-07,2019-02-08,2019-02-28,2019-03-01,2019-04-04,2019-04-05,2019-06-07,2019-09-13,2019-10-10,2019-10-11\n",
      "請輸入補班日(YYYY-MM-DD 請用逗點分隔):2019-01-19,2019-02-23,2019-10-05\n",
      "請輸入日期(YYYY-MM-DD):2019-07-29\n",
      "請輸入發薪日期:20\n",
      "     July 2019\n",
      "Mo Tu We Th Fr Sa Su\n",
      " 1  2  3  4  5  6  7\n",
      " 8  9 10 11 12 13 14\n",
      "15 16 17 18 19 20 21\n",
      "22 23 24 25 26 27 28\n",
      "29 30 31\n",
      "\n",
      "2019 年有 250 個工作日，7 月有 23 個工作日，7 月至 2019-07-29 00:00:00 已經過了 20 個工作日，再 15 個工作天發薪水。\n"
     ]
    }
   ],
   "source": [
    "import calendar \n",
    "from datetime import datetime, timedelta, date\n",
    "\n",
    "holidays = input(\"請輸入國定假日(YYYY-MM-DD 請用逗點分隔):\").split(\",\")\n",
    "workdays = input(\"請輸入補班日(YYYY-MM-DD 請用逗點分隔):\").split(\",\")\n",
    "inputdate = input(\"請輸入日期(YYYY-MM-DD):\")\n",
    "paydate = eval(input(\"請輸入發薪日期:\"))\n",
    "\n",
    "hday = [datetime.strptime(i,'%Y-%m-%d') for i in holidays]\n",
    "wday = [datetime.strptime(i,'%Y-%m-%d') for i in workdays]\n",
    "date_end = datetime.strptime(inputdate,'%Y-%m-%d')\n",
    "date_end_m = datetime(date_end.year + (date_end.month == 12) ,date_end.month + 12 * (date_end.month < 12) - 11 ,1) + timedelta(-1)\n",
    "date_end_y = datetime(date_end.year + 1,1,1) + timedelta(-1)\n",
    "date_start_y = datetime(date_end.year,1,1)\n",
    "date_nextpay = datetime(date_end.year,date_end.month + (date_end.day > paydate),paydate)\n",
    "counts = date_end_y - date_start_y\n",
    "jy = jm = j = jp = 0\n",
    "for i in range(counts.days + 1):\n",
    "    dt,_=str(date_start_y + timedelta(i)).split(' ')\n",
    "    d = date_start_y + timedelta(i)\n",
    "    h = d in hday\n",
    "    w = d in wday\n",
    "    wk = d.isoweekday() in [1,2,3,4,5]\n",
    "    jy = jy + wk- h + w\n",
    "    jm = jm + (wk - h + w)*(d.month == date_end.month)\n",
    "    j = j + (wk - h + w)*(d.month == date_end.month)*(d < date_end)\n",
    "    jp = jp + (wk - h + w)*(date_end < d < date_nextpay)\n",
    "print(calendar.month(date_end.year,date_end.month))\n",
    "print('%s 年有 %s 個工作日，%s 月有 %s 個工作日，%s 月至 %s 已經過了 %s 個工作日，再 %s 個工作天發薪水。' % \\\n",
    "    (date_end.year, jy, date_end.month, jm, date_end.month, date_end, j, jp))\n"
   ]
  },
  {
   "cell_type": "code",
   "execution_count": 19,
   "metadata": {},
   "outputs": [
    {
     "name": "stdout",
     "output_type": "stream",
     "text": [
      "time.struct_time(tm_year=2019, tm_mon=7, tm_mday=31, tm_hour=11, tm_min=7, tm_sec=18, tm_wday=2, tm_yday=212, tm_isdst=0)\n"
     ]
    }
   ],
   "source": [
    "# 獲取此時的時間\n",
    "import time\n",
    "print(time.localtime())"
   ]
  },
  {
   "cell_type": "code",
   "execution_count": 20,
   "metadata": {},
   "outputs": [
    {
     "name": "stdout",
     "output_type": "stream",
     "text": [
      "2019-07-31\n"
     ]
    }
   ],
   "source": [
    "# 獲取當天的日期\n",
    "import datetime\n",
    "print(datetime.date.today())"
   ]
  },
  {
   "cell_type": "code",
   "execution_count": 22,
   "metadata": {},
   "outputs": [
    {
     "name": "stdout",
     "output_type": "stream",
     "text": [
      "2019-07-31 11:07:39.256171\n"
     ]
    }
   ],
   "source": [
    "# 獲取當天的日期(含時分秒)\n",
    "print(datetime.datetime.now())"
   ]
  }
 ],
 "metadata": {
  "kernelspec": {
   "display_name": "Python 3",
   "language": "python",
   "name": "python3"
  },
  "language_info": {
   "codemirror_mode": {
    "name": "ipython",
    "version": 3
   },
   "file_extension": ".py",
   "mimetype": "text/x-python",
   "name": "python",
   "nbconvert_exporter": "python",
   "pygments_lexer": "ipython3",
   "version": "3.7.3"
  }
 },
 "nbformat": 4,
 "nbformat_minor": 2
}
